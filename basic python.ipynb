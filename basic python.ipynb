{
 "cells": [
  {
   "cell_type": "code",
   "execution_count": 116,
   "id": "6fb567fc",
   "metadata": {},
   "outputs": [],
   "source": [
    "d={'key1':'value','key2':'123'}"
   ]
  },
  {
   "cell_type": "code",
   "execution_count": 117,
   "id": "5f16c0a0",
   "metadata": {},
   "outputs": [
    {
     "name": "stdout",
     "output_type": "stream",
     "text": [
      "{'key1': 'value', 'key2': '123'}\n"
     ]
    }
   ],
   "source": [
    "print(d)"
   ]
  },
  {
   "cell_type": "code",
   "execution_count": 118,
   "id": "3889e9c4",
   "metadata": {},
   "outputs": [
    {
     "data": {
      "text/plain": [
       "'123'"
      ]
     },
     "execution_count": 118,
     "metadata": {},
     "output_type": "execute_result"
    }
   ],
   "source": [
    "d['key2']"
   ]
  },
  {
   "cell_type": "code",
   "execution_count": 119,
   "id": "5c410f13",
   "metadata": {},
   "outputs": [],
   "source": [
    "d={'k1':[1,2,3,4]}"
   ]
  },
  {
   "cell_type": "code",
   "execution_count": 120,
   "id": "074b6f7b",
   "metadata": {},
   "outputs": [
    {
     "data": {
      "text/plain": [
       "[1, 2, 3, 4]"
      ]
     },
     "execution_count": 120,
     "metadata": {},
     "output_type": "execute_result"
    }
   ],
   "source": [
    "d['k1']"
   ]
  },
  {
   "cell_type": "code",
   "execution_count": 121,
   "id": "42f20bb7",
   "metadata": {},
   "outputs": [
    {
     "name": "stdout",
     "output_type": "stream",
     "text": [
      "{'k1': [1, 2, 3, 4]}\n"
     ]
    }
   ],
   "source": [
    "print(d)"
   ]
  },
  {
   "cell_type": "code",
   "execution_count": null,
   "id": "718c8b53",
   "metadata": {},
   "outputs": [],
   "source": []
  },
  {
   "cell_type": "code",
   "execution_count": 122,
   "id": "216c8620",
   "metadata": {},
   "outputs": [
    {
     "data": {
      "text/plain": [
       "[1, 2, 3, 4]"
      ]
     },
     "execution_count": 122,
     "metadata": {},
     "output_type": "execute_result"
    }
   ],
   "source": [
    "d['k1']"
   ]
  },
  {
   "cell_type": "code",
   "execution_count": 123,
   "id": "c078833e",
   "metadata": {},
   "outputs": [
    {
     "data": {
      "text/plain": [
       "3"
      ]
     },
     "execution_count": 123,
     "metadata": {},
     "output_type": "execute_result"
    }
   ],
   "source": [
    "d['k1'][2]"
   ]
  },
  {
   "cell_type": "code",
   "execution_count": null,
   "id": "1d5d2e05",
   "metadata": {},
   "outputs": [],
   "source": []
  },
  {
   "cell_type": "code",
   "execution_count": 124,
   "id": "f8b192e4",
   "metadata": {},
   "outputs": [
    {
     "data": {
      "text/plain": [
       "True"
      ]
     },
     "execution_count": 124,
     "metadata": {},
     "output_type": "execute_result"
    }
   ],
   "source": [
    "True"
   ]
  },
  {
   "cell_type": "code",
   "execution_count": 125,
   "id": "d9932479",
   "metadata": {},
   "outputs": [
    {
     "data": {
      "text/plain": [
       "False"
      ]
     },
     "execution_count": 125,
     "metadata": {},
     "output_type": "execute_result"
    }
   ],
   "source": [
    "False"
   ]
  },
  {
   "cell_type": "markdown",
   "id": "d9ddbc07",
   "metadata": {},
   "source": [
    "tuples and sets"
   ]
  },
  {
   "cell_type": "code",
   "execution_count": 126,
   "id": "58cb8bf2",
   "metadata": {},
   "outputs": [],
   "source": [
    "t=(1,2,3)"
   ]
  },
  {
   "cell_type": "code",
   "execution_count": 127,
   "id": "2af52529",
   "metadata": {},
   "outputs": [
    {
     "data": {
      "text/plain": [
       "1"
      ]
     },
     "execution_count": 127,
     "metadata": {},
     "output_type": "execute_result"
    }
   ],
   "source": [
    "t[0]"
   ]
  },
  {
   "cell_type": "markdown",
   "id": "cd3ec2ba",
   "metadata": {},
   "source": [
    "difference between tuples and list"
   ]
  },
  {
   "cell_type": "code",
   "execution_count": 128,
   "id": "7575cba4",
   "metadata": {},
   "outputs": [],
   "source": [
    "my_list=[1,2,3,4,5]"
   ]
  },
  {
   "cell_type": "code",
   "execution_count": 129,
   "id": "f54646e0",
   "metadata": {},
   "outputs": [],
   "source": [
    "my_list[0]='NEW'"
   ]
  },
  {
   "cell_type": "code",
   "execution_count": 130,
   "id": "ba2925cf",
   "metadata": {},
   "outputs": [
    {
     "data": {
      "text/plain": [
       "['NEW', 2, 3, 4, 5]"
      ]
     },
     "execution_count": 130,
     "metadata": {},
     "output_type": "execute_result"
    }
   ],
   "source": [
    "my_list"
   ]
  },
  {
   "cell_type": "code",
   "execution_count": 131,
   "id": "38687c2a",
   "metadata": {},
   "outputs": [],
   "source": [
    "t=(1,2,3,4)"
   ]
  },
  {
   "cell_type": "markdown",
   "id": "970b1825",
   "metadata": {},
   "source": [
    "t[0]='new' tuples are immutable so they are not changed ay time and list is muttable"
   ]
  },
  {
   "cell_type": "code",
   "execution_count": 132,
   "id": "d915484e",
   "metadata": {},
   "outputs": [
    {
     "data": {
      "text/plain": [
       "{1, 2, 3, 4}"
      ]
     },
     "execution_count": 132,
     "metadata": {},
     "output_type": "execute_result"
    }
   ],
   "source": [
    "{1,2,3,4}"
   ]
  },
  {
   "cell_type": "code",
   "execution_count": 133,
   "id": "fab97b41",
   "metadata": {},
   "outputs": [
    {
     "data": {
      "text/plain": [
       "{1, 2, 3, 4}"
      ]
     },
     "execution_count": 133,
     "metadata": {},
     "output_type": "execute_result"
    }
   ],
   "source": [
    "{1,2,3,4,1,2,3,}"
   ]
  },
  {
   "cell_type": "markdown",
   "id": "29a34cf8",
   "metadata": {},
   "source": [
    "{ sets are unique and only unique element}"
   ]
  },
  {
   "cell_type": "code",
   "execution_count": 134,
   "id": "5196dec0",
   "metadata": {},
   "outputs": [
    {
     "data": {
      "text/plain": [
       "{1, 2, 3, 4, 5, 6}"
      ]
     },
     "execution_count": 134,
     "metadata": {},
     "output_type": "execute_result"
    }
   ],
   "source": [
    "set([1,2,3,4,1,2,3,4,5,6])"
   ]
  },
  {
   "cell_type": "code",
   "execution_count": null,
   "id": "b395d05f",
   "metadata": {},
   "outputs": [],
   "source": []
  },
  {
   "cell_type": "code",
   "execution_count": null,
   "id": "511c9c0e",
   "metadata": {},
   "outputs": [],
   "source": []
  },
  {
   "cell_type": "code",
   "execution_count": 135,
   "id": "c2b0d09c",
   "metadata": {},
   "outputs": [],
   "source": [
    "s={1,2,3,4,5}"
   ]
  },
  {
   "cell_type": "code",
   "execution_count": 136,
   "id": "84e2f3ba",
   "metadata": {},
   "outputs": [],
   "source": [
    "s.add(5)"
   ]
  },
  {
   "cell_type": "code",
   "execution_count": 137,
   "id": "64625aab",
   "metadata": {},
   "outputs": [
    {
     "data": {
      "text/plain": [
       "{1, 2, 3, 4, 5}"
      ]
     },
     "execution_count": 137,
     "metadata": {},
     "output_type": "execute_result"
    }
   ],
   "source": [
    "s\n"
   ]
  },
  {
   "cell_type": "code",
   "execution_count": 138,
   "id": "bb1ed408",
   "metadata": {},
   "outputs": [
    {
     "data": {
      "text/plain": [
       "False"
      ]
     },
     "execution_count": 138,
     "metadata": {},
     "output_type": "execute_result"
    }
   ],
   "source": [
    "1>2"
   ]
  },
  {
   "cell_type": "code",
   "execution_count": 139,
   "id": "9a53653e",
   "metadata": {},
   "outputs": [
    {
     "data": {
      "text/plain": [
       "True"
      ]
     },
     "execution_count": 139,
     "metadata": {},
     "output_type": "execute_result"
    }
   ],
   "source": [
    "3>2"
   ]
  },
  {
   "cell_type": "code",
   "execution_count": 140,
   "id": "021ab327",
   "metadata": {},
   "outputs": [
    {
     "data": {
      "text/plain": [
       "False"
      ]
     },
     "execution_count": 140,
     "metadata": {},
     "output_type": "execute_result"
    }
   ],
   "source": [
    "1==2"
   ]
  },
  {
   "cell_type": "code",
   "execution_count": 141,
   "id": "1bcf9080",
   "metadata": {},
   "outputs": [
    {
     "data": {
      "text/plain": [
       "True"
      ]
     },
     "execution_count": 141,
     "metadata": {},
     "output_type": "execute_result"
    }
   ],
   "source": [
    "1!=3"
   ]
  },
  {
   "cell_type": "code",
   "execution_count": 142,
   "id": "63c2ab46",
   "metadata": {},
   "outputs": [
    {
     "data": {
      "text/plain": [
       "False"
      ]
     },
     "execution_count": 142,
     "metadata": {},
     "output_type": "execute_result"
    }
   ],
   "source": [
    "'hi'=='HI'"
   ]
  },
  {
   "cell_type": "code",
   "execution_count": 143,
   "id": "2b9f885a",
   "metadata": {},
   "outputs": [
    {
     "data": {
      "text/plain": [
       "False"
      ]
     },
     "execution_count": 143,
     "metadata": {},
     "output_type": "execute_result"
    }
   ],
   "source": [
    "1>2 and 2<3"
   ]
  },
  {
   "cell_type": "code",
   "execution_count": 144,
   "id": "f96e0473",
   "metadata": {},
   "outputs": [
    {
     "data": {
      "text/plain": [
       "True"
      ]
     },
     "execution_count": 144,
     "metadata": {},
     "output_type": "execute_result"
    }
   ],
   "source": [
    "1>2 or 2<3"
   ]
  },
  {
   "cell_type": "code",
   "execution_count": 145,
   "id": "969f39f5",
   "metadata": {},
   "outputs": [
    {
     "data": {
      "text/plain": [
       "True"
      ]
     },
     "execution_count": 145,
     "metadata": {},
     "output_type": "execute_result"
    }
   ],
   "source": [
    "True or False or False"
   ]
  },
  {
   "cell_type": "markdown",
   "id": "ea882a32",
   "metadata": {},
   "source": []
  },
  {
   "cell_type": "code",
   "execution_count": 146,
   "id": "71148fef",
   "metadata": {},
   "outputs": [],
   "source": [
    "def even(var):\n",
    "    return var*2"
   ]
  },
  {
   "cell_type": "code",
   "execution_count": 147,
   "id": "b5697187",
   "metadata": {},
   "outputs": [
    {
     "data": {
      "text/plain": [
       "10"
      ]
     },
     "execution_count": 147,
     "metadata": {},
     "output_type": "execute_result"
    }
   ],
   "source": [
    "even(5)"
   ]
  },
  {
   "cell_type": "code",
   "execution_count": 148,
   "id": "e7da9ad8",
   "metadata": {},
   "outputs": [],
   "source": [
    "seq=[1,2,3,4,5,6,7,8,9]"
   ]
  },
  {
   "cell_type": "code",
   "execution_count": 149,
   "id": "cc280908",
   "metadata": {},
   "outputs": [
    {
     "data": {
      "text/plain": [
       "[2, 4, 6, 8, 10, 12, 14, 16, 18]"
      ]
     },
     "execution_count": 149,
     "metadata": {},
     "output_type": "execute_result"
    }
   ],
   "source": [
    "list(map(even,seq))"
   ]
  },
  {
   "cell_type": "markdown",
   "id": "e02aceea",
   "metadata": {},
   "source": [
    "now using map with he help of the klambda function"
   ]
  },
  {
   "cell_type": "code",
   "execution_count": 150,
   "id": "1c6f9c55",
   "metadata": {},
   "outputs": [],
   "source": [
    "a=list(map(lambda num:num**2,seq))"
   ]
  },
  {
   "cell_type": "code",
   "execution_count": 151,
   "id": "3fb63a40",
   "metadata": {},
   "outputs": [
    {
     "data": {
      "text/plain": [
       "[1, 4, 9, 16, 25, 36, 49, 64, 81]"
      ]
     },
     "execution_count": 151,
     "metadata": {},
     "output_type": "execute_result"
    }
   ],
   "source": [
    "a"
   ]
  },
  {
   "cell_type": "markdown",
   "id": "a271f4b6",
   "metadata": {},
   "source": [
    "lambda function are also called as the anonymous function which reduce the lines of code make it an one liner functionM"
   ]
  },
  {
   "cell_type": "markdown",
   "id": "d024737e",
   "metadata": {},
   "source": [
    "use of filters"
   ]
  },
  {
   "cell_type": "code",
   "execution_count": 152,
   "id": "cb6dbb8e",
   "metadata": {},
   "outputs": [],
   "source": [
    "onlyeven=list(filter(lambda num :num%2==0 ,a))"
   ]
  },
  {
   "cell_type": "code",
   "execution_count": 153,
   "id": "0300c370",
   "metadata": {},
   "outputs": [
    {
     "data": {
      "text/plain": [
       "[4, 16, 36, 64]"
      ]
     },
     "execution_count": 153,
     "metadata": {},
     "output_type": "execute_result"
    }
   ],
   "source": [
    "onlyeven"
   ]
  },
  {
   "cell_type": "markdown",
   "id": "b4dae6b3",
   "metadata": {},
   "source": [
    "string inbuit methods that can be used"
   ]
  },
  {
   "cell_type": "code",
   "execution_count": 154,
   "id": "68b9c727",
   "metadata": {},
   "outputs": [
    {
     "data": {
      "text/plain": [
       "'hello whats your name i think so it is pruthvij'"
      ]
     },
     "execution_count": 154,
     "metadata": {},
     "output_type": "execute_result"
    }
   ],
   "source": [
    "s='hello whats your name i think so it is PRUTHVIJ'\n",
    "s.lower()"
   ]
  },
  {
   "cell_type": "code",
   "execution_count": 155,
   "id": "d024dcd1",
   "metadata": {},
   "outputs": [
    {
     "data": {
      "text/plain": [
       "'HELLO WHATS YOUR NAME I THINK SO IT IS PRUTHVIJ'"
      ]
     },
     "execution_count": 155,
     "metadata": {},
     "output_type": "execute_result"
    }
   ],
   "source": [
    "s.upper()"
   ]
  },
  {
   "cell_type": "code",
   "execution_count": 156,
   "id": "a31bf397",
   "metadata": {},
   "outputs": [
    {
     "data": {
      "text/plain": [
       "['hello', 'whats', 'your', 'name', 'i', 'think', 'so', 'it', 'is', 'PRUTHVIJ']"
      ]
     },
     "execution_count": 156,
     "metadata": {},
     "output_type": "execute_result"
    }
   ],
   "source": [
    "s.split()"
   ]
  },
  {
   "cell_type": "markdown",
   "id": "14f9b293",
   "metadata": {},
   "source": [
    "tupple unpacking"
   ]
  },
  {
   "cell_type": "code",
   "execution_count": 157,
   "id": "29c527a9",
   "metadata": {},
   "outputs": [],
   "source": [
    "x=[(1,2),(3,4),(5,6)]"
   ]
  },
  {
   "cell_type": "code",
   "execution_count": 158,
   "id": "201d99d5",
   "metadata": {},
   "outputs": [
    {
     "name": "stdout",
     "output_type": "stream",
     "text": [
      "(1, 2)\n",
      "(3, 4)\n",
      "(5, 6)\n"
     ]
    }
   ],
   "source": [
    "for item in x:\n",
    "    print(item)"
   ]
  },
  {
   "cell_type": "code",
   "execution_count": 159,
   "id": "605648dd",
   "metadata": {},
   "outputs": [
    {
     "name": "stdout",
     "output_type": "stream",
     "text": [
      "1\n",
      "3\n",
      "5\n"
     ]
    }
   ],
   "source": [
    "for (a,b) in x:\n",
    "    print(a)"
   ]
  },
  {
   "cell_type": "code",
   "execution_count": 160,
   "id": "6b602661",
   "metadata": {},
   "outputs": [
    {
     "name": "stdout",
     "output_type": "stream",
     "text": [
      "2\n",
      "4\n",
      "6\n"
     ]
    }
   ],
   "source": [
    "for(a,b) in x:\n",
    "    print(b)"
   ]
  },
  {
   "cell_type": "code",
   "execution_count": 161,
   "id": "a69c89cc",
   "metadata": {},
   "outputs": [
    {
     "name": "stdout",
     "output_type": "stream",
     "text": [
      "2401\n"
     ]
    }
   ],
   "source": [
    "print(7**4)"
   ]
  },
  {
   "cell_type": "markdown",
   "id": "2240f2f2",
   "metadata": {},
   "source": [
    "THIS WAS THE PYTHON COURSE MOUDLE ASSIGNMENT "
   ]
  },
  {
   "cell_type": "code",
   "execution_count": 162,
   "id": "8a9440ed",
   "metadata": {},
   "outputs": [],
   "source": [
    "s=\"Hi there sam!\""
   ]
  },
  {
   "cell_type": "code",
   "execution_count": 163,
   "id": "4d15d19f",
   "metadata": {},
   "outputs": [
    {
     "data": {
      "text/plain": [
       "['Hi', 'there', 'sam!']"
      ]
     },
     "execution_count": 163,
     "metadata": {},
     "output_type": "execute_result"
    }
   ],
   "source": [
    "s.split()"
   ]
  },
  {
   "cell_type": "code",
   "execution_count": 169,
   "id": "c0fa5bc1",
   "metadata": {},
   "outputs": [],
   "source": [
    "def email(var):\n",
    "    b=var.split('@')\n",
    "    return b[1]"
   ]
  },
  {
   "cell_type": "code",
   "execution_count": 170,
   "id": "b5c5a868",
   "metadata": {},
   "outputs": [],
   "source": [
    "a='user@domain.com'"
   ]
  },
  {
   "cell_type": "code",
   "execution_count": 171,
   "id": "0e16aa24",
   "metadata": {},
   "outputs": [
    {
     "data": {
      "text/plain": [
       "'domain.com'"
      ]
     },
     "execution_count": 171,
     "metadata": {},
     "output_type": "execute_result"
    }
   ],
   "source": [
    "email(a)"
   ]
  },
  {
   "cell_type": "code",
   "execution_count": 172,
   "id": "9bfe8d27",
   "metadata": {},
   "outputs": [],
   "source": [
    "seq=['soup','dog','salad','cat']"
   ]
  },
  {
   "cell_type": "code",
   "execution_count": 173,
   "id": "b478cb8b",
   "metadata": {},
   "outputs": [],
   "source": [
    "a=list(filter(lambda var:var[0]!='s',seq))"
   ]
  },
  {
   "cell_type": "code",
   "execution_count": 174,
   "id": "9647085b",
   "metadata": {},
   "outputs": [
    {
     "name": "stdout",
     "output_type": "stream",
     "text": [
      "['dog', 'cat']\n"
     ]
    }
   ],
   "source": [
    "print(a)"
   ]
  },
  {
   "cell_type": "markdown",
   "id": "8a448589",
   "metadata": {},
   "source": [
    "END OF THE ASSIGNMENT"
   ]
  },
  {
   "cell_type": "code",
   "execution_count": null,
   "id": "2530f198",
   "metadata": {},
   "outputs": [],
   "source": []
  },
  {
   "cell_type": "code",
   "execution_count": null,
   "id": "4038ad16",
   "metadata": {},
   "outputs": [],
   "source": []
  },
  {
   "cell_type": "code",
   "execution_count": null,
   "id": "0b48e236",
   "metadata": {},
   "outputs": [],
   "source": []
  },
  {
   "cell_type": "code",
   "execution_count": null,
   "id": "3a69a030",
   "metadata": {},
   "outputs": [],
   "source": []
  }
 ],
 "metadata": {
  "kernelspec": {
   "display_name": "Python 3 (ipykernel)",
   "language": "python",
   "name": "python3"
  },
  "language_info": {
   "codemirror_mode": {
    "name": "ipython",
    "version": 3
   },
   "file_extension": ".py",
   "mimetype": "text/x-python",
   "name": "python",
   "nbconvert_exporter": "python",
   "pygments_lexer": "ipython3",
   "version": "3.11.5"
  }
 },
 "nbformat": 4,
 "nbformat_minor": 5
}
